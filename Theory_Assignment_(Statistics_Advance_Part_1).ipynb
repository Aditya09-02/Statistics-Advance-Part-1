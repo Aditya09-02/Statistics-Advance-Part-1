{
  "nbformat": 4,
  "nbformat_minor": 0,
  "metadata": {
    "colab": {
      "provenance": []
    },
    "kernelspec": {
      "name": "python3",
      "display_name": "Python 3"
    },
    "language_info": {
      "name": "python"
    }
  },
  "cells": [
    {
      "cell_type": "markdown",
      "source": [
        "Q1. What is a random variable in probability theory ?"
      ],
      "metadata": {
        "id": "wP9r7MTWR62f"
      }
    },
    {
      "cell_type": "markdown",
      "source": [
        "Ans. A random variable is a numerical value that represents the outcome of a random event. It assigns a number to each possible result in a probability experiment."
      ],
      "metadata": {
        "id": "pnW0OZitR863"
      }
    },
    {
      "cell_type": "markdown",
      "source": [
        "Q2. What are the types of random variables ?"
      ],
      "metadata": {
        "id": "0BKIOfYuSGlP"
      }
    },
    {
      "cell_type": "markdown",
      "source": [
        "Ans.  There are two main types of random variables:\n",
        "\n",
        "1. Discrete random variables — take specific, countable values (like 0, 1, 2, ...).\n",
        "\n",
        "2. Continuous random variables — take any value within a range or interval (like any real number between 0 and 1)."
      ],
      "metadata": {
        "id": "Da_TDC6TSKAn"
      }
    },
    {
      "cell_type": "markdown",
      "source": [
        "Q3. What is the difference between discrete and continuous distributions ?"
      ],
      "metadata": {
        "id": "XJZGOoNPSZS3"
      }
    },
    {
      "cell_type": "markdown",
      "source": [
        "Ans. A discrete distribution deals with distinct, separate values, while a continuous distribution deals with an infinite number of possible values within a range."
      ],
      "metadata": {
        "id": "gIwEsnchShb3"
      }
    },
    {
      "cell_type": "markdown",
      "source": [
        "Q4. What are probability distribution functions (PDF) ?"
      ],
      "metadata": {
        "id": "tLWCeX4eSjhf"
      }
    },
    {
      "cell_type": "markdown",
      "source": [
        "Ans. A probability distribution function (PDF) shows how the probabilities are distributed over the values of a random variable — for discrete variables, it gives the probability of each value; for continuous variables, it gives the probability density across intervals."
      ],
      "metadata": {
        "id": "TBix1uFKSrLG"
      }
    },
    {
      "cell_type": "markdown",
      "source": [
        "Q5. How do cumulative distribution functions (CDF) differ from probability distribution functions (PDF) ?"
      ],
      "metadata": {
        "id": "1ESbdHYiStGu"
      }
    },
    {
      "cell_type": "markdown",
      "source": [
        "Ans. A PDF shows the probability (or density) at a specific value, while a CDF shows the total probability accumulated up to a certain value."
      ],
      "metadata": {
        "id": "Wa7sMCjES0vP"
      }
    },
    {
      "cell_type": "markdown",
      "source": [
        "Q6. What is a discrete uniform distribution ?"
      ],
      "metadata": {
        "id": "gFzZ1ILYS2Cd"
      }
    },
    {
      "cell_type": "markdown",
      "source": [
        "Ans. A discrete uniform distribution is when all possible outcomes of a discrete random variable are equally likely."
      ],
      "metadata": {
        "id": "tkzvy-2gTBeF"
      }
    },
    {
      "cell_type": "markdown",
      "source": [
        "Q7. What are the key properties of a Bernoulli distribution ?"
      ],
      "metadata": {
        "id": "EpHe9eTbTELN"
      }
    },
    {
      "cell_type": "markdown",
      "source": [
        "Ans. Key properties of a Bernoulli distribution are:\n",
        "\n",
        "1. Only two possible outcomes: success (1) or failure (0).\n",
        "\n",
        "2. Probability of success is p; probability of failure is 1−p.\n",
        "\n",
        "3. Mean is 𝑝 and variance is p(1−p)."
      ],
      "metadata": {
        "id": "dFkoVJZwTLNV"
      }
    },
    {
      "cell_type": "markdown",
      "source": [
        "Q8. What is the binomial distribution, and how is it used in probability ?"
      ],
      "metadata": {
        "id": "8hoABM-rTq5h"
      }
    },
    {
      "cell_type": "markdown",
      "source": [
        "Ans. The binomial distribution models the number of successes in a fixed number of independent trials, each with the same probability of success. It’s used to calculate the likelihood of getting a certain number of successes in repeated experiments."
      ],
      "metadata": {
        "id": "0cpLALxbTyOt"
      }
    },
    {
      "cell_type": "markdown",
      "source": [
        "Q9. What is the Poisson distribution and where is it applied ?"
      ],
      "metadata": {
        "id": "RDfMVkWcTzat"
      }
    },
    {
      "cell_type": "markdown",
      "source": [
        "Ans. The Poisson distribution models the number of events happening in a fixed interval of time or space when the events occur independently and at a constant average rate. It’s often applied to things like counting phone calls at a call center or decay events from a radioactive source."
      ],
      "metadata": {
        "id": "A3wxjpylT6zu"
      }
    },
    {
      "cell_type": "markdown",
      "source": [
        "Q10. What is a continuous uniform distribution ?"
      ],
      "metadata": {
        "id": "lpEBWTcIT8FO"
      }
    },
    {
      "cell_type": "markdown",
      "source": [
        "Ans. A continuous uniform distribution is when all values within a certain range are equally likely, and the probability is spread evenly across that range."
      ],
      "metadata": {
        "id": "PAsHJX23UDVk"
      }
    },
    {
      "cell_type": "markdown",
      "source": [
        "Q11. What are the characteristics of a normal distribution ?"
      ],
      "metadata": {
        "id": "ol1X1TM-UGJs"
      }
    },
    {
      "cell_type": "markdown",
      "source": [
        "Ans. Key characteristics of a normal distribution are:\n",
        "\n",
        "1. It is symmetric, with the mean, median, and mode all equal.\n",
        "\n",
        "2. It follows a bell-shaped curve.\n",
        "\n",
        "3. The distribution is defined by two parameters: mean (μ) and standard deviation (σ).\n",
        "\n",
        "4. Approximately 68% of data falls within one standard deviation, 95% within two, and 99.7% within three."
      ],
      "metadata": {
        "id": "-jfXQs1jULaM"
      }
    },
    {
      "cell_type": "markdown",
      "source": [
        "Q12. What is the standard normal distribution, and why is it important ?"
      ],
      "metadata": {
        "id": "In4vkxU4Uafc"
      }
    },
    {
      "cell_type": "markdown",
      "source": [
        "Ans. The standard normal distribution is a normal distribution with a mean of 0 and a standard deviation of 1. It is important because it serves as a reference for converting any normal distribution into a standard form through z-scores, allowing for easier comparison and calculation of probabilities."
      ],
      "metadata": {
        "id": "6R02ZiGIUhuu"
      }
    },
    {
      "cell_type": "markdown",
      "source": [
        "Q13. What is the Central Limit Theorem (CLT), and why is it critical in statistics ?"
      ],
      "metadata": {
        "id": "IBX8CkujUi7-"
      }
    },
    {
      "cell_type": "markdown",
      "source": [
        "Ans. The Central Limit Theorem (CLT) states that, regardless of the original population distribution, the sampling distribution of the sample mean will tend to be normal if the sample size is large enough. It is critical because it allows statisticians to make inferences about population parameters using the normal distribution, even when the original data is not normally distributed."
      ],
      "metadata": {
        "id": "TliZBO7PUpWt"
      }
    },
    {
      "cell_type": "markdown",
      "source": [
        "Q14.  How does the Central Limit Theorem relate to the normal distribution ?"
      ],
      "metadata": {
        "id": "B2ZX77MKUqp9"
      }
    },
    {
      "cell_type": "markdown",
      "source": [
        "Ans. The Central Limit Theorem (CLT) relates to the normal distribution by stating that the distribution of sample means, for a sufficiently large sample size, will approach a normal distribution, regardless of the shape of the original population distribution. This allows us to apply normal distribution methods (like z-scores) to sample data even when the original data is not normally distributed."
      ],
      "metadata": {
        "id": "2UsIeHq1U5IM"
      }
    },
    {
      "cell_type": "markdown",
      "source": [
        "Q15. What is the application of Z statistics in hypothesis testing ?"
      ],
      "metadata": {
        "id": "shOZPu_oU6it"
      }
    },
    {
      "cell_type": "markdown",
      "source": [
        "Ans. Z-statistics are used in hypothesis testing to determine how far a sample mean is from the population mean in terms of standard deviations. It helps assess whether the observed data significantly differs from a hypothesized value. If the calculated z-score falls within a critical range (based on significance level), the null hypothesis is rejected. This is commonly used when the sample size is large, and the population standard deviation is known.\n"
      ],
      "metadata": {
        "id": "QZPfTjwbVCHM"
      }
    },
    {
      "cell_type": "markdown",
      "source": [
        "Q16. How do you calculate a Z-score, and what does it represent ?"
      ],
      "metadata": {
        "id": "gncvV5BGVGJ1"
      }
    },
    {
      "cell_type": "markdown",
      "source": [
        "Ans. A Z-score is calculated using the formula:\n",
        "\n",
        "Z=\n",
        "σ\n",
        "X−μ\n",
        "​\n",
        "\n",
        "Where:\n",
        "\n",
        "1. 𝑋 is the observed value,\n",
        "\n",
        "2. μ is the mean of the population,\n",
        "\n",
        "3. σ is the standard deviation of the population.\n",
        "\n",
        "The Z-score represents how many standard deviations the observed value (\n",
        "𝑋\n",
        "X) is from the population mean (\n",
        "𝜇\n",
        "μ). A positive Z-score means the value is above the mean, while a negative Z-score means it's below the mean."
      ],
      "metadata": {
        "id": "A1c5Yf39VNVs"
      }
    },
    {
      "cell_type": "markdown",
      "source": [
        "Q17. What are point estimates and interval estimates in statistics ?"
      ],
      "metadata": {
        "id": "-i9wwEuyVn1r"
      }
    },
    {
      "cell_type": "markdown",
      "source": [
        "Ans. In statistics:\n",
        "\n",
        "1. Point estimate refers to a single value used to estimate a population parameter (e.g., sample mean as an estimate for the population mean). It provides a specific estimate but does not account for uncertainty.\n",
        "\n",
        "2. Interval estimate provides a range of values, along with a confidence level, within which the population parameter is likely to fall (e.g., confidence intervals). It accounts for variability and provides a more reliable estimate than a point estimate alone."
      ],
      "metadata": {
        "id": "_BtlJrmfVuiD"
      }
    },
    {
      "cell_type": "markdown",
      "source": [
        "Q18. What is the significance of confidence intervals in statistical analysis ?"
      ],
      "metadata": {
        "id": "TyPuT2gCV1kL"
      }
    },
    {
      "cell_type": "markdown",
      "source": [
        "Ans. Confidence intervals are important in statistical analysis because they provide a range of values that likely contain the true population parameter, offering a measure of uncertainty. A wider interval indicates more uncertainty, while a narrower interval suggests greater precision. The confidence level (e.g., 95%) indicates how often the true parameter would fall within the interval if the experiment were repeated multiple times."
      ],
      "metadata": {
        "id": "qGI1r2qrV6T7"
      }
    },
    {
      "cell_type": "markdown",
      "source": [
        "Q19. What is the relationship between a Z-score and a confidence interval ?"
      ],
      "metadata": {
        "id": "Gw2eoXTTV7pz"
      }
    },
    {
      "cell_type": "markdown",
      "source": [
        "Ans. The Z-score is used to determine the critical value for a confidence interval. It corresponds to the number of standard deviations away from the mean needed to capture a certain percentage of the data. For example:\n",
        "\n",
        "1. A 95% confidence interval corresponds to a Z-score of approximately 1.96, meaning the true population parameter has a 95% chance of falling within 1.96 standard deviations of the sample mean.\n",
        "\n",
        "2. The Z-score helps calculate the range (upper and lower limits) of the confidence interval by multiplying it by the standard error of the sample."
      ],
      "metadata": {
        "id": "Y6LeEz_oWB7s"
      }
    },
    {
      "cell_type": "markdown",
      "source": [
        "Q20.  How are Z-scores used to compare different distributions ?"
      ],
      "metadata": {
        "id": "-aFcXNhCWIib"
      }
    },
    {
      "cell_type": "markdown",
      "source": [
        "Ans. Z-scores are used to compare different distributions by standardizing values, making them comparable regardless of the original scale or units. They express how many standard deviations a data point is from its distribution's mean. By converting different data sets to Z-scores, you can directly compare values from different distributions, even if they have different means or standard deviations, since Z-scores standardize the data. This helps in determining relative positions and making comparisons across different datasets or distributions."
      ],
      "metadata": {
        "id": "9LSpfHavWNiD"
      }
    },
    {
      "cell_type": "markdown",
      "source": [
        "Q21. What are the assumptions for applying the Central Limit Theorem ?"
      ],
      "metadata": {
        "id": "R4mUroB5WQuL"
      }
    },
    {
      "cell_type": "markdown",
      "source": [
        "Ans. The Central Limit Theorem (CLT) applies under the following assumptions:\n",
        "\n",
        "1. Random Sampling: The data should come from a random sample.\n",
        "\n",
        "2. Independence: The samples must be independent of each other.\n",
        "\n",
        "3. Sample Size: For small populations, the sample size should be less than 10% of the population. For large populations, the sample size should typically be at least 30.\n",
        "\n",
        "4. Population Shape: If the population distribution is heavily skewed or non-normal, a larger sample size is needed for the CLT to apply effectively."
      ],
      "metadata": {
        "id": "bCuaHgxgWVYE"
      }
    },
    {
      "cell_type": "markdown",
      "source": [
        "Q22. What is the concept of expected value in a probability distribution ?"
      ],
      "metadata": {
        "id": "axmU13Y5Weua"
      }
    },
    {
      "cell_type": "markdown",
      "source": [
        "Ans. The expected value (or mean) in a probability distribution is the long-run average or the \"center\" of the distribution. It represents the weighted average of all possible values, where each value is weighted by its probability. Mathematically, for a discrete random variable\n",
        "\n",
        "X, the expected value is calculated as:\n",
        "\n",
        "E(X)=∑(x\n",
        "i\n",
        "​\n",
        " ⋅P(x\n",
        "i\n",
        "​\n",
        " ))\n",
        "\n",
        "Where 𝑥𝑖 is a possible outcome and 𝑃(𝑥𝑖) is its probability. For continuous distributions, it’s the integral of the value times its probability density function. The expected value gives a sense of the \"typical\" outcome of\n",
        "a random variable.\n",
        "\n",
        "\n"
      ],
      "metadata": {
        "id": "V4uxGp69Wk-i"
      }
    },
    {
      "cell_type": "markdown",
      "source": [
        "Q23.  How does a probability distribution relate to the expected outcome of a random variable ?"
      ],
      "metadata": {
        "id": "tUc6Ji1rXUDK"
      }
    },
    {
      "cell_type": "markdown",
      "source": [
        "Ans. A probability distribution defines the likelihood of each possible outcome of a random variable, and the expected value is the weighted average of those outcomes, based on their probabilities. It represents the \"average\" or \"typical\" outcome you would expect over many trials."
      ],
      "metadata": {
        "id": "kICvUQd-Xf_r"
      }
    }
  ]
}